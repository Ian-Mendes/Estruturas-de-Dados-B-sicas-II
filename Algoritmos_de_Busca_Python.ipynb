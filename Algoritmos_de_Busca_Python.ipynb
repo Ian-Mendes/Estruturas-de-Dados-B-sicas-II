{
  "nbformat": 4,
  "nbformat_minor": 0,
  "metadata": {
    "colab": {
      "provenance": [],
      "authorship_tag": "ABX9TyMPQFviq46hTq7r0xwGn2iI",
      "include_colab_link": true
    },
    "kernelspec": {
      "name": "python3",
      "display_name": "Python 3"
    },
    "language_info": {
      "name": "python"
    }
  },
  "cells": [
    {
      "cell_type": "markdown",
      "metadata": {
        "id": "view-in-github",
        "colab_type": "text"
      },
      "source": [
        "<a href=\"https://colab.research.google.com/github/Ian-Mendes/Estruturas-de-Dados-Basicas-II/blob/main/Algoritmos_de_Busca_Python.ipynb\" target=\"_parent\"><img src=\"https://colab.research.google.com/assets/colab-badge.svg\" alt=\"Open In Colab\"/></a>"
      ]
    },
    {
      "cell_type": "markdown",
      "source": [
        "#Busca sequencial recursiva em um vetor.\n",
        "Retorna a posição do valor buscado em um vetor caso ele esteja presente. Caso contrário, retorna -1.\n",
        "\n",
        "\n",
        "Funções presentes:\n",
        "\n",
        "buscaSequencial\n",
        "*   parâmetros: vetor, tamanho (int), valor de busca (int);\n",
        "*   retorno: -1 (valor não encontrado), índice (valor encontrado);\n",
        "\n",
        "confirmacao\n",
        "*   retorno: \"y\" ou \"n\";\n",
        "*   solicita input do usuário e o permite adicionar uma quantidade desejada de novos valores ao final do vetor;\n",
        "\n",
        "adicionarValores\n",
        "* parâmetros: vetor;\n",
        "* retorno:  void;\n",
        "* adiciona por meio do método .append() valores selecionados pelo usuário.\n",
        "\n",
        "\n"
      ],
      "metadata": {
        "id": "sUjKh7ph0LbJ"
      }
    },
    {
      "cell_type": "code",
      "execution_count": null,
      "metadata": {
        "colab": {
          "base_uri": "https://localhost:8080/"
        },
        "id": "Yh-OZ95sz1K3",
        "outputId": "5cd20556-50b1-496f-bd10-9fd04cd2bdde"
      },
      "outputs": [
        {
          "output_type": "stream",
          "name": "stdout",
          "text": [
            "Qual o tamanho do vetor?\n",
            "5\n",
            "Digite o valor: 10\n",
            "Digite o valor: 11\n",
            "Digite o valor: 12\n",
            "Digite o valor: 13\n",
            "Digite o valor: 14\n",
            "Adicionar mais valores? [y/n]\n",
            "15\n",
            "Defina o valor a ser buscado: \n",
            "4\n",
            "-1\n"
          ]
        }
      ],
      "source": [
        "#Função para busca sequencial e recursiva\n",
        "def buscaSequencial(vetor, tam, x):\n",
        "  if (tam == 0):\n",
        "    return -1\n",
        "  elif (vetor[tam - 1] == x):\n",
        "    return tam - 1\n",
        "  else:\n",
        "    return buscaSequencial(vetor, tam - 1, x)\n",
        "\n",
        "\n",
        "#Função que retorna o desejo de adicionar mais valores ao vetor\n",
        "def confirmacao():\n",
        "  print(\"Adicionar mais valores? [y/n]\")\n",
        "  return input().lower()\n",
        "\n",
        "\n",
        "#Função para adicionar novos valores ao final do vetor\n",
        "def adicionarValores(vetor):\n",
        "  print(\"Qual o tamanho do vetor?\")\n",
        "  tam = int(input())\n",
        "  for _ in range(tam):\n",
        "    vetor.append(int(input(\"Digite o valor: \")))\n",
        "\n",
        "\n",
        "def main():\n",
        "  #declaração de vetor vazio\n",
        "  vetor = []\n",
        "\n",
        "  adicionarValores(vetor)\n",
        "  while (confirmacao() == \"y\"):\n",
        "    adicionarValores(vetor)\n",
        "\n",
        "  print(\"Defina o valor a ser buscado: \")\n",
        "\n",
        "  x = int(input())\n",
        "  print(buscaSequencial(vetor, len(vetor), x))\n",
        "\n",
        "\n",
        "if __name__ == \"__main__\":\n",
        "  main()\n"
      ]
    },
    {
      "cell_type": "markdown",
      "source": [
        "# Algoritmo de Busca Binária\n",
        "\n",
        "Dado um tamanho definido pelo *input* do usuário, cria uma lista com valores aleatórios e realiza a busca binária do inteiro solicitado pelo usuário.\n",
        "\n",
        "Funções presentes:\n",
        "\n",
        "buscaBinaria:\n",
        "* parâmetros: vetor, valor a ser buscado (int)\n",
        "* realiza a busca binária do valor solicitado.\n",
        "\n"
      ],
      "metadata": {
        "id": "M86QoGQ427YA"
      }
    },
    {
      "cell_type": "code",
      "source": [
        "\n",
        "def buscaBinaria(vetor, valor):\n",
        "  min = 0\n",
        "  max = len(vetor) - 1\n",
        "\n",
        "  while min <= max:\n",
        "    meio = (min + max) // 2\n",
        "\n",
        "    if (valor == meio):\n",
        "      return vetor.index(meio)\n",
        "\n",
        "    elif (valor < meio):\n",
        "      max = meio - 1\n",
        "\n",
        "    elif (valor > meio):\n",
        "      min = meio + 1\n",
        "\n",
        "  return -1\n",
        "\n",
        "\n",
        "def main():\n",
        "  print(\"Qual o tamanho do vetor? \")\n",
        "  N = int(input())\n",
        "\n",
        "  vetor = list(range(1, N + 1))\n",
        "\n",
        "  print(\"Insira valor a ser buscado:  \")\n",
        "  valor = int(input())\n",
        "\n",
        "  resp = buscaBinaria(vetor, valor)\n",
        "\n",
        "  if (resp == -1):\n",
        "    print(\"Valor não encontrado!\")\n",
        "  else:\n",
        "    print(\"Valor encontrado! Índice: \", resp)\n",
        "\n",
        "\n",
        "if __name__ == \"__main__\":\n",
        "  main()\n"
      ],
      "metadata": {
        "colab": {
          "base_uri": "https://localhost:8080/"
        },
        "id": "sP_3T58H25iP",
        "outputId": "73e6ff93-941c-421f-b58a-ea7a8efeffda"
      },
      "execution_count": null,
      "outputs": [
        {
          "output_type": "stream",
          "name": "stdout",
          "text": [
            "Qual o tamanho do vetor? \n"
          ]
        }
      ]
    },
    {
      "cell_type": "markdown",
      "source": [
        "#Está ordenado ou não?\n",
        "Por meio de uma variável de controle chamada \"decisão\", geramos, aleatoriamente, um vetor ou ordenado em ordem crescente ou não, com tamanho dado pelo usuário. Retorna o vetor e True ou False para ordenação.\n",
        "\n",
        "Funções presentes:\n",
        "\n",
        "ordenadoCrescente:\n",
        "* parâmetros: vetor, tamanho (int)\n",
        "* retorno: True, caso ordenado, False, caso contrário.\n",
        "\n",
        "Realiza busca linear por algum item fora de ordem crescente."
      ],
      "metadata": {
        "id": "iw0Zawb2-ohF"
      }
    },
    {
      "cell_type": "code",
      "source": [
        "import random\n",
        "\n",
        "def ordenadoCrescente(vetor,tam):\n",
        "\n",
        "  for idx in range(len(vetor)-1):\n",
        "    if vetor[idx] > vetor[idx+1]:\n",
        "      return False\n",
        "  return True\n",
        "\n",
        "def main():\n",
        "  vetor = []\n",
        "  decisao = random.randint(0,1)\n",
        "\n",
        "  print(\"Selecione o tamanho do vetor:  \")\n",
        "  tam = int(input())\n",
        "\n",
        "  if decisao == 0:\n",
        "    for idx in range(tam):\n",
        "      vetor.append(random.randint(0,tam+1))\n",
        "    vetor.sort()\n",
        "  else:\n",
        "    for idx in range(tam):\n",
        "      vetor.append(random.randint(0,tam+1))\n",
        "\n",
        "  print(vetor)\n",
        "  print(ordenadoCrescente(vetor,tam))\n",
        "\n",
        "if __name__ == \"__main__\":\n",
        "  main()"
      ],
      "metadata": {
        "id": "aQkq2Iu3-sRz"
      },
      "execution_count": null,
      "outputs": []
    },
    {
      "cell_type": "markdown",
      "source": [
        "#Fibonacci\n",
        "\n",
        "Dado um valor por *input* de usuário pertencente até o vigésimo elemento da sequência de fibonacci, retorna a sua posição na sequência. Em caso contrário, retorna que que o valor não é pertencente à sequência.\n",
        "\n",
        "Funções presentes:\n",
        "\n",
        "fibonacciCreator:\n",
        "\n",
        "* parâmetros: nenhum\n",
        "* retorno: vetor com a sequência de fibonacci até o vigésimo elemento.\n",
        "\n",
        "fibonacciFinder:\n",
        "\n",
        "* parâmetros: nenhum\n",
        "* retorno: mensagem de retorno informando o índice do valor na sequência de fibonacci ou o seu não pertencimento à sequência.\n",
        "\n",
        "Realiza busca iterativa pelo elemento solicitado."
      ],
      "metadata": {
        "id": "Mqek2TBY-txM"
      }
    },
    {
      "cell_type": "code",
      "source": [
        "def fibonacciCreator():\n",
        "  fibonacci = [1, 1]\n",
        "\n",
        "  for idx in range(2, 18):\n",
        "    fibonacci.append(fibonacci[idx - 1] + fibonacci[idx - 2])\n",
        "\n",
        "  return fibonacci\n",
        "\n",
        "\n",
        "def fibonacciFinder():\n",
        "  print(\"Insira um inteiro positivo: \")\n",
        "  n = int(input())\n",
        "  arr = fibonacciCreator()\n",
        "  if n in arr:\n",
        "    print(\"O número pertence a sequência de Fibonacci e está na \",\n",
        "          arr.index(n), \"ª posição.\")\n",
        "  else:\n",
        "    print(\"O valor não pertence à sequência de Fibonacci.\")\n",
        "\n",
        "def main():\n",
        "  fibonacciFinder()\n",
        "\n",
        "\n",
        "if __name__ == \"__main__\":\n",
        "  main()\n"
      ],
      "metadata": {
        "id": "1FKV415NCz_E"
      },
      "execution_count": null,
      "outputs": []
    }
  ]
}